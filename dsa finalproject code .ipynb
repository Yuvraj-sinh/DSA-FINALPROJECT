{
 "cells": [
  {
   "cell_type": "code",
   "execution_count": 1,
   "id": "72ea1860",
   "metadata": {},
   "outputs": [
    {
     "name": "stdout",
     "output_type": "stream",
     "text": [
      "Requirement already satisfied: newsapi-python in d:\\anaconda\\lib\\site-packages (0.2.7)\n",
      "Requirement already satisfied: requests<3.0.0 in d:\\anaconda\\lib\\site-packages (from newsapi-python) (2.28.1)\n",
      "Requirement already satisfied: charset-normalizer<3,>=2 in d:\\anaconda\\lib\\site-packages (from requests<3.0.0->newsapi-python) (2.0.4)\n",
      "Requirement already satisfied: idna<4,>=2.5 in d:\\anaconda\\lib\\site-packages (from requests<3.0.0->newsapi-python) (3.4)\n",
      "Requirement already satisfied: certifi>=2017.4.17 in d:\\anaconda\\lib\\site-packages (from requests<3.0.0->newsapi-python) (2022.12.7)\n",
      "Requirement already satisfied: urllib3<1.27,>=1.21.1 in d:\\anaconda\\lib\\site-packages (from requests<3.0.0->newsapi-python) (1.26.14)\n"
     ]
    }
   ],
   "source": [
    "!pip install newsapi-python\n",
    "\n"
   ]
  },
  {
   "cell_type": "code",
   "execution_count": 2,
   "id": "3329aaf3",
   "metadata": {},
   "outputs": [],
   "source": [
    "from newsapi import NewsApiClient\n",
    "import pandas as pd\n",
    "\n",
    "# Initialize the client\n",
    "api_key = 'c44235de961a45f1ac4f933dddaecb55'  # Replace 'YOUR_API_TOKEN' with your actual API token\n",
    "newsapi = NewsApiClient(api_key=api_key)\n"
   ]
  },
  {
   "cell_type": "code",
   "execution_count": 3,
   "id": "9fee9a19",
   "metadata": {},
   "outputs": [],
   "source": [
    "top_headlines = newsapi.get_top_headlines(country='us', category='business', page_size=100)\n"
   ]
  },
  {
   "cell_type": "code",
   "execution_count": 4,
   "id": "e2adda42",
   "metadata": {},
   "outputs": [
    {
     "name": "stdout",
     "output_type": "stream",
     "text": [
      "dict_keys(['status', 'totalResults', 'articles'])\n",
      "{'source': {'id': None, 'name': 'CNBC'}, 'author': 'Evelyn Cheng, Clement Tan', 'title': \"China's property troubles aren't getting better, intensifying calls for bolder policy help - CNBC\", 'description': 'Prospective home buyers are holding back on making purchases, leading to weak sales that compound the urgent need for policymakers to step up support for the industry.', 'url': 'https://www.cnbc.com/2023/08/18/chinas-property-troubles-worsen-ramping-calls-for-bolder-policy-help.html', 'urlToImage': 'https://image.cnbcfm.com/api/v1/image/107287878-1692248610087-gettyimages-1250413357-Rural_Infrastructure_Construction_In_China.jpeg?v=1692323081&w=1920&h=1080', 'publishedAt': '2023-08-18T01:44:00Z', 'content': \"Aerial photo shows a rural residential area in Chengdong town of Hai 'an City, East China's Jiangsu Province, April 1, 2023.\\r\\nChina's real estate troubles are accelerating. Prospective home buyers ar… [+5832 chars]\"}\n"
     ]
    }
   ],
   "source": [
    "# Let's see the keys in the returned data\n",
    "print(top_headlines.keys())\n",
    "\n",
    "# Print the first article to see its structure\n",
    "print(top_headlines['articles'][0])\n"
   ]
  },
  {
   "cell_type": "markdown",
   "id": "cb86f6bf",
   "metadata": {},
   "source": [
    "# producer "
   ]
  },
  {
   "cell_type": "code",
   "execution_count": null,
   "id": "3b71b53f",
   "metadata": {},
   "outputs": [],
   "source": [
    "from newsapi import NewsApiClient\n",
    "import json\n",
    "from kafka import KafkaProducer\n",
    "\n",
    "# Initialize the NewsAPI client with your API key.\n",
    "key = \"c44235de961a45f1ac4f933dddaecb55\"\n",
    "newsapi = NewsApiClient(api_key=key)\n",
    "\n",
    "# Fetch top business headlines from the U.S.\n",
    "all_articles = newsapi.get_top_headlines(country='us', category='business')\n",
    "\n",
    "# Initialize the Kafka producer\n",
    "producer = KafkaProducer(bootstrap_servers='localhost:9092')\n",
    "\n",
    "# Send articles to the \"FinalProject\" Kafka topic\n",
    "for article in all_articles['articles']:\n",
    "    print(article['title'])\n",
    "    producer.send('FinalProject', json.dumps(article).encode('utf-8'))\n",
    "\n",
    "# Close the Kafka producer\n",
    "producer.close()\n",
    "---------------------------------------------------------------------------------------------------------\n",
    "\n"
   ]
  },
  {
   "cell_type": "markdown",
   "id": "dfbf99cf",
   "metadata": {},
   "source": [
    "# consumer"
   ]
  },
  {
   "cell_type": "code",
   "execution_count": null,
   "id": "a39d5e89",
   "metadata": {},
   "outputs": [],
   "source": [
    "from kafka import KafkaConsumer\n",
    "import csv\n",
    "import json\n",
    "from hdfs import InsecureClient\n",
    "\n",
    "# Kafka Consumer Setup\n",
    "consumer = KafkaConsumer('FinalProject', bootstrap_servers='localhost:9092')\n",
    "\n",
    "# Writing to CSV\n",
    "csv_filename = 'headline.csv'\n",
    "with open(csv_filename, 'w', newline='') as file:\n",
    "    writer = csv.writer(file)\n",
    "    writer.writerow([\"Title\", \"Source\", \"Description\"])  # Write header\n",
    "    \n",
    "    try:\n",
    "        for message in consumer:\n",
    "            article = json.loads(message.value.decode('utf-8'))\n",
    "            \n",
    "            title = article.get('title', '')\n",
    "            source = article.get('source', {}).get('name', '')\n",
    "            description = article.get('description', '')\n",
    "            \n",
    "            writer.writerow([title, source, description])\n",
    "    except KeyboardInterrupt:\n",
    "        print(\"Stopped consuming messages and writing to CSV.\")\n",
    "        pass\n",
    "\n",
    "# Uploading to HDFS\n",
    "hadoop_client = InsecureClient('https://newsapi.org/v2/top-headlines?country=us&category=business&apiKey=c44235de961a45f1ac4f933dddaecb55//localhost:50070')\n",
    "\n",
    "with open(headline.csv, 'rb') as file:\n",
    "    hadoop_client.upload('/file/headline.csv', file)\n",
    "    print(f\"{headline.csv} uploaded to HDFS.\")\n"
   ]
  }
 ],
 "metadata": {
  "kernelspec": {
   "display_name": "Python 3 (ipykernel)",
   "language": "python",
   "name": "python3"
  },
  "language_info": {
   "codemirror_mode": {
    "name": "ipython",
    "version": 3
   },
   "file_extension": ".py",
   "mimetype": "text/x-python",
   "name": "python",
   "nbconvert_exporter": "python",
   "pygments_lexer": "ipython3",
   "version": "3.10.9"
  }
 },
 "nbformat": 4,
 "nbformat_minor": 5
}
